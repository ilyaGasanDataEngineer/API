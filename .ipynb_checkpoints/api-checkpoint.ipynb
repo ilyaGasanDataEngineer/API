{
 "cells": [
  {
   "cell_type": "markdown",
   "id": "2a569927-97a1-4928-a589-a9d541923c22",
   "metadata": {},
   "source": [
    "# API"
   ]
  },
  {
   "cell_type": "markdown",
   "id": "7d32e993-45f8-4207-a57c-f7799bbf9a5d",
   "metadata": {},
   "source": [
    "API aplication programming interface -b это механизмы которые позвыаляют двум программным компонентам взаимодействовать друг с другом используя набор протоколов"
   ]
  },
  {
   "cell_type": "markdown",
   "id": "e539a371-3eba-4e53-b555-12dd443fc19a",
   "metadata": {},
   "source": [
    "## что предлагает API"
   ]
  },
  {
   "cell_type": "markdown",
   "id": "6d3a16c4-14d5-447c-8551-8f72667bcf4c",
   "metadata": {},
   "source": [
    "1) взаимозаменяеемость\n",
    "2) маштабируемость\n",
    "3) безопасность\n",
    " "
   ]
  },
  {
   "cell_type": "markdown",
   "id": "8738bfb2-a441-4f0d-a5ba-4d635a636087",
   "metadata": {},
   "source": [
    "## Типы API"
   ]
  },
  {
   "cell_type": "markdown",
   "id": "3a21d2d8-7a86-404e-a52a-dbd069e265c1",
   "metadata": {},
   "source": [
    "1) публичные (открытыйц бесплатный ) WEB api http protocol\n",
    "2) партнерские (доступен только авторизованным разработчиками) \n",
    "3) внтрение (внутри предприятия)"
   ]
  },
  {
   "cell_type": "markdown",
   "id": "a33f64dc-4a71-4b0d-a5fd-462ceaa766c5",
   "metadata": {},
   "source": []
  }
 ],
 "metadata": {
  "kernelspec": {
   "display_name": "",
   "name": ""
  },
  "language_info": {
   "name": ""
  }
 },
 "nbformat": 4,
 "nbformat_minor": 5
}
