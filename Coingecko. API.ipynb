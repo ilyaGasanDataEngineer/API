{
 "cells": [
  {
   "cell_type": "markdown",
   "id": "aMZWqYZ3fdCn",
   "metadata": {
    "id": "aMZWqYZ3fdCn"
   },
   "source": [
    "## Работа с API"
   ]
  },
  {
   "cell_type": "markdown",
   "id": "ulvMXKrPogLy",
   "metadata": {
    "id": "ulvMXKrPogLy"
   },
   "source": [
    "Библиотеки:\n",
    "\n",
    "* pandas для работы с данными\n",
    "* matplotlib для визуализации \n",
    "* time, datetime для работы со временем и датами\n",
    "* requests для HTTPS-запросов\n",
    "* json для работы с содержимым запросов \n",
    "* sqlite3 для работы с базой данных SQlite"
   ]
  },
  {
   "cell_type": "code",
   "execution_count": 3,
   "id": "844c0d4f",
   "metadata": {
    "executionInfo": {
     "elapsed": 296,
     "status": "ok",
     "timestamp": 1659116932730,
     "user": {
      "displayName": "Fedor Erin",
      "userId": "14230325476000231713"
     },
     "user_tz": -180
    },
    "id": "844c0d4f"
   },
   "outputs": [],
   "source": [
    "import requests\n",
    "import json\n",
    "from datetime import timedelta, date, datetime\n",
    "import time\n",
    "import sqlite3\n",
    "import matplotlib.pyplot as plt\n",
    "import pandas as pd"
   ]
  },
  {
   "cell_type": "markdown",
   "id": "Cuxja0EIfUaZ",
   "metadata": {
    "id": "Cuxja0EIfUaZ"
   },
   "source": [
    "#### Справочник криптовалют: возмем Топ-5 монет по капитализации согласно [CoinMarketCap](https://coinmarketcap.com/)"
   ]
  },
  {
   "cell_type": "code",
   "execution_count": 3,
   "id": "dd9f1d90",
   "metadata": {
    "executionInfo": {
     "elapsed": 269,
     "status": "ok",
     "timestamp": 1659116970641,
     "user": {
      "displayName": "Fedor Erin",
      "userId": "14230325476000231713"
     },
     "user_tz": -180
    },
    "id": "dd9f1d90"
   },
   "outputs": [],
   "source": [
    "top_coins = [\n",
    "    'Bitcoin', \n",
    "    'Ethereum', \n",
    "    'Tether', \n",
    "    'USD Coin', \n",
    "    'BNB'\n",
    "]"
   ]
  },
  {
   "cell_type": "markdown",
   "id": "CGHMkEP1f6xw",
   "metadata": {
    "id": "CGHMkEP1f6xw"
   },
   "source": [
    "#### Создаем небольшую базу данных для хранения результатов"
   ]
  },
  {
   "cell_type": "code",
   "execution_count": 4,
   "id": "d34f4dbe",
   "metadata": {
    "executionInfo": {
     "elapsed": 255,
     "status": "ok",
     "timestamp": 1659116975309,
     "user": {
      "displayName": "Fedor Erin",
      "userId": "14230325476000231713"
     },
     "user_tz": -180
    },
    "id": "d34f4dbe"
   },
   "outputs": [],
   "source": [
    "conn = sqlite3.connect('coins_prices')\n",
    "c = conn.cursor()\n",
    "\n",
    "c.execute('''\n",
    "    CREATE TABLE IF NOT EXISTS prices (\n",
    "          coingecko_id nvarchar(255), \n",
    "          price_date date, \n",
    "          btc REAL, \n",
    "          usd REAL, \n",
    "          insert_dttm datetime\n",
    "    )\n",
    "''')\n",
    "conn.commit()\n",
    "\n",
    "c.execute('''\n",
    "    SELECT distinct price_date \n",
    "    FROM prices\n",
    "''')\n",
    "conn.commit()"
   ]
  },
  {
   "cell_type": "markdown",
   "id": "Ui87t1yahPfk",
   "metadata": {
    "id": "Ui87t1yahPfk"
   },
   "source": [
    "#### Фиксируем все уже загруженные данные"
   ]
  },
  {
   "cell_type": "code",
   "execution_count": 5,
   "id": "f7a6a0b5",
   "metadata": {
    "executionInfo": {
     "elapsed": 309,
     "status": "ok",
     "timestamp": 1659117040770,
     "user": {
      "displayName": "Fedor Erin",
      "userId": "14230325476000231713"
     },
     "user_tz": -180
    },
    "id": "f7a6a0b5"
   },
   "outputs": [],
   "source": [
    "dates_saved = [\n",
    "  datetime.strptime(x[0], '%Y-%m-%d %H:%M:%S') for x in c.fetchall()\n",
    "]"
   ]
  },
  {
   "cell_type": "markdown",
   "id": "1KJstcyNpMEE",
   "metadata": {
    "id": "1KJstcyNpMEE"
   },
   "source": [
    "#### Проанализировав документацию, можно понять как формируются ссылки, которые отвечают за определенные данные, создадим функции для этого"
   ]
  },
  {
   "cell_type": "code",
   "execution_count": 1,
   "id": "d195ef99",
   "metadata": {
    "executionInfo": {
     "elapsed": 275,
     "status": "ok",
     "timestamp": 1659117133184,
     "user": {
      "displayName": "Fedor Erin",
      "userId": "14230325476000231713"
     },
     "user_tz": -180
    },
    "id": "d195ef99"
   },
   "outputs": [],
   "source": [
    "def get_simple_coins_list() -> dict:\n",
    "    \"\"\"\n",
    "    Функция возвращает список всех поддерживаемых coingecko криптовалют\n",
    "    \"\"\"\n",
    "    coins_url = (\n",
    "        'https://api.coingecko.com/api/v3/coins/list?include_platform=false'\n",
    "    )\n",
    "    content = requests.get(coins_url)\n",
    "    return json.loads(content.text)\n",
    "\n",
    "def get_history(coin: str, date: str) -> dict:\n",
    "    \"\"\"\n",
    "    Функция возвращает историю по монете за дату \n",
    "    \n",
    "    Args:\n",
    "        coin (str): тикер монеты\n",
    "        date (str): дата в формате \"07-07-2022\"\n",
    "    \n",
    "    Returns:\n",
    "        (dict): словарь с данными по цене\n",
    "    \"\"\"\n",
    "    history_url = (\n",
    "        f'https://api.coingecko.com/api/v3/coins/{coin}/history?date={date}'\n",
    "    )\n",
    "    content = requests.get(history_url)\n",
    "    return json.loads(content.text)"
   ]
  },
  {
   "cell_type": "markdown",
   "id": "wCrHlBr9hpRi",
   "metadata": {
    "id": "wCrHlBr9hpRi"
   },
   "source": [
    "#### Получаем данные по монетам, список всех наимнований"
   ]
  },
  {
   "cell_type": "code",
   "execution_count": 4,
   "id": "402731ed",
   "metadata": {
    "colab": {
     "base_uri": "https://localhost:8080/"
    },
    "executionInfo": {
     "elapsed": 246,
     "status": "ok",
     "timestamp": 1659117139229,
     "user": {
      "displayName": "Fedor Erin",
      "userId": "14230325476000231713"
     },
     "user_tz": -180
    },
    "id": "402731ed",
    "outputId": "b44f84c3-f72f-4231-f778-27df10b5a0e8"
   },
   "outputs": [
    {
     "name": "stdout",
     "output_type": "stream",
     "text": [
      "CPU times: user 28.9 ms, sys: 11.8 ms, total: 40.7 ms\n",
      "Wall time: 817 ms\n"
     ]
    }
   ],
   "source": [
    "%%time\n",
    "coins_meta = get_simple_coins_list()"
   ]
  },
  {
   "cell_type": "code",
   "execution_count": 8,
   "id": "8d9f52ac",
   "metadata": {
    "executionInfo": {
     "elapsed": 299,
     "status": "ok",
     "timestamp": 1659117163158,
     "user": {
      "displayName": "Fedor Erin",
      "userId": "14230325476000231713"
     },
     "user_tz": -180
    },
    "id": "8d9f52ac"
   },
   "outputs": [],
   "source": [
    "def parse_coins_id(coins_meta: dict) -> list:\n",
    "    \"\"\"\n",
    "    Функция парсит данные по наименованиям монетам и возвращает только нужные поля\n",
    "    \n",
    "    Args:\n",
    "        coins_meta (dict): словарь всех монет\n",
    "    Returns:\n",
    "        (list): с преобразованными данными по монетам\n",
    "    \"\"\"\n",
    "    list_id = []\n",
    "    for row in coins_meta:\n",
    "        list_coin = (row['id'], row['symbol'], row['name'])\n",
    "        list_id.append(list_coin)\n",
    "    return list_id"
   ]
  },
  {
   "cell_type": "markdown",
   "id": "q6zGOy9DdB6V",
   "metadata": {
    "id": "q6zGOy9DdB6V"
   },
   "source": [
    "#### Генерируем датафрейм из списка всех поддерживаемых __coingecko__ криптовалют"
   ]
  },
  {
   "cell_type": "code",
   "execution_count": 9,
   "id": "3071dce3",
   "metadata": {
    "colab": {
     "base_uri": "https://localhost:8080/",
     "height": 223
    },
    "executionInfo": {
     "elapsed": 273,
     "status": "ok",
     "timestamp": 1659117171495,
     "user": {
      "displayName": "Fedor Erin",
      "userId": "14230325476000231713"
     },
     "user_tz": -180
    },
    "id": "3071dce3",
    "outputId": "c544ebc9-b252-4fcb-eb80-297ed6948381"
   },
   "outputs": [
    {
     "name": "stdout",
     "output_type": "stream",
     "text": [
      "(13107, 3)\n"
     ]
    },
    {
     "data": {
      "text/html": [
       "\n",
       "  <div id=\"df-017ada4b-0ed0-4a70-b78a-9d1c05af4adb\">\n",
       "    <div class=\"colab-df-container\">\n",
       "      <div>\n",
       "<style scoped>\n",
       "    .dataframe tbody tr th:only-of-type {\n",
       "        vertical-align: middle;\n",
       "    }\n",
       "\n",
       "    .dataframe tbody tr th {\n",
       "        vertical-align: top;\n",
       "    }\n",
       "\n",
       "    .dataframe thead th {\n",
       "        text-align: right;\n",
       "    }\n",
       "</style>\n",
       "<table border=\"1\" class=\"dataframe\">\n",
       "  <thead>\n",
       "    <tr style=\"text-align: right;\">\n",
       "      <th></th>\n",
       "      <th>id</th>\n",
       "      <th>symbol</th>\n",
       "      <th>name</th>\n",
       "    </tr>\n",
       "  </thead>\n",
       "  <tbody>\n",
       "    <tr>\n",
       "      <th>0</th>\n",
       "      <td>01coin</td>\n",
       "      <td>zoc</td>\n",
       "      <td>01coin</td>\n",
       "    </tr>\n",
       "    <tr>\n",
       "      <th>1</th>\n",
       "      <td>0-5x-long-algorand-token</td>\n",
       "      <td>algohalf</td>\n",
       "      <td>0.5X Long Algorand</td>\n",
       "    </tr>\n",
       "    <tr>\n",
       "      <th>2</th>\n",
       "      <td>0-5x-long-altcoin-index-token</td>\n",
       "      <td>althalf</td>\n",
       "      <td>0.5X Long Altcoin Index</td>\n",
       "    </tr>\n",
       "    <tr>\n",
       "      <th>3</th>\n",
       "      <td>0-5x-long-ascendex-token-token</td>\n",
       "      <td>asdhalf</td>\n",
       "      <td>0.5X Long AscendEx</td>\n",
       "    </tr>\n",
       "    <tr>\n",
       "      <th>4</th>\n",
       "      <td>0-5x-long-bitcoin-cash-token</td>\n",
       "      <td>bchhalf</td>\n",
       "      <td>0.5X Long Bitcoin Cash</td>\n",
       "    </tr>\n",
       "  </tbody>\n",
       "</table>\n",
       "</div>\n",
       "      <button class=\"colab-df-convert\" onclick=\"convertToInteractive('df-017ada4b-0ed0-4a70-b78a-9d1c05af4adb')\"\n",
       "              title=\"Convert this dataframe to an interactive table.\"\n",
       "              style=\"display:none;\">\n",
       "        \n",
       "  <svg xmlns=\"http://www.w3.org/2000/svg\" height=\"24px\"viewBox=\"0 0 24 24\"\n",
       "       width=\"24px\">\n",
       "    <path d=\"M0 0h24v24H0V0z\" fill=\"none\"/>\n",
       "    <path d=\"M18.56 5.44l.94 2.06.94-2.06 2.06-.94-2.06-.94-.94-2.06-.94 2.06-2.06.94zm-11 1L8.5 8.5l.94-2.06 2.06-.94-2.06-.94L8.5 2.5l-.94 2.06-2.06.94zm10 10l.94 2.06.94-2.06 2.06-.94-2.06-.94-.94-2.06-.94 2.06-2.06.94z\"/><path d=\"M17.41 7.96l-1.37-1.37c-.4-.4-.92-.59-1.43-.59-.52 0-1.04.2-1.43.59L10.3 9.45l-7.72 7.72c-.78.78-.78 2.05 0 2.83L4 21.41c.39.39.9.59 1.41.59.51 0 1.02-.2 1.41-.59l7.78-7.78 2.81-2.81c.8-.78.8-2.07 0-2.86zM5.41 20L4 18.59l7.72-7.72 1.47 1.35L5.41 20z\"/>\n",
       "  </svg>\n",
       "      </button>\n",
       "      \n",
       "  <style>\n",
       "    .colab-df-container {\n",
       "      display:flex;\n",
       "      flex-wrap:wrap;\n",
       "      gap: 12px;\n",
       "    }\n",
       "\n",
       "    .colab-df-convert {\n",
       "      background-color: #E8F0FE;\n",
       "      border: none;\n",
       "      border-radius: 50%;\n",
       "      cursor: pointer;\n",
       "      display: none;\n",
       "      fill: #1967D2;\n",
       "      height: 32px;\n",
       "      padding: 0 0 0 0;\n",
       "      width: 32px;\n",
       "    }\n",
       "\n",
       "    .colab-df-convert:hover {\n",
       "      background-color: #E2EBFA;\n",
       "      box-shadow: 0px 1px 2px rgba(60, 64, 67, 0.3), 0px 1px 3px 1px rgba(60, 64, 67, 0.15);\n",
       "      fill: #174EA6;\n",
       "    }\n",
       "\n",
       "    [theme=dark] .colab-df-convert {\n",
       "      background-color: #3B4455;\n",
       "      fill: #D2E3FC;\n",
       "    }\n",
       "\n",
       "    [theme=dark] .colab-df-convert:hover {\n",
       "      background-color: #434B5C;\n",
       "      box-shadow: 0px 1px 3px 1px rgba(0, 0, 0, 0.15);\n",
       "      filter: drop-shadow(0px 1px 2px rgba(0, 0, 0, 0.3));\n",
       "      fill: #FFFFFF;\n",
       "    }\n",
       "  </style>\n",
       "\n",
       "      <script>\n",
       "        const buttonEl =\n",
       "          document.querySelector('#df-017ada4b-0ed0-4a70-b78a-9d1c05af4adb button.colab-df-convert');\n",
       "        buttonEl.style.display =\n",
       "          google.colab.kernel.accessAllowed ? 'block' : 'none';\n",
       "\n",
       "        async function convertToInteractive(key) {\n",
       "          const element = document.querySelector('#df-017ada4b-0ed0-4a70-b78a-9d1c05af4adb');\n",
       "          const dataTable =\n",
       "            await google.colab.kernel.invokeFunction('convertToInteractive',\n",
       "                                                     [key], {});\n",
       "          if (!dataTable) return;\n",
       "\n",
       "          const docLinkHtml = 'Like what you see? Visit the ' +\n",
       "            '<a target=\"_blank\" href=https://colab.research.google.com/notebooks/data_table.ipynb>data table notebook</a>'\n",
       "            + ' to learn more about interactive tables.';\n",
       "          element.innerHTML = '';\n",
       "          dataTable['output_type'] = 'display_data';\n",
       "          await google.colab.output.renderOutput(dataTable, element);\n",
       "          const docLink = document.createElement('div');\n",
       "          docLink.innerHTML = docLinkHtml;\n",
       "          element.appendChild(docLink);\n",
       "        }\n",
       "      </script>\n",
       "    </div>\n",
       "  </div>\n",
       "  "
      ],
      "text/plain": [
       "                               id    symbol                     name\n",
       "0                          01coin       zoc                   01coin\n",
       "1        0-5x-long-algorand-token  algohalf       0.5X Long Algorand\n",
       "2   0-5x-long-altcoin-index-token   althalf  0.5X Long Altcoin Index\n",
       "3  0-5x-long-ascendex-token-token   asdhalf       0.5X Long AscendEx\n",
       "4    0-5x-long-bitcoin-cash-token   bchhalf   0.5X Long Bitcoin Cash"
      ]
     },
     "execution_count": 9,
     "metadata": {},
     "output_type": "execute_result"
    }
   ],
   "source": [
    "df_coins_all_meta = pd.DataFrame(parse_coins_id(coins_meta), columns = ['id', 'symbol', 'name'])\n",
    "print(df_coins_all_meta.shape)\n",
    "df_coins_all_meta.head()"
   ]
  },
  {
   "cell_type": "markdown",
   "id": "k6OJJeVqp0kp",
   "metadata": {
    "id": "k6OJJeVqp0kp"
   },
   "source": [
    "Данный датафрейм нам будет нужен для сопоставления нашего списка названий монет и их обозначения (id), которое использует coingecko"
   ]
  },
  {
   "cell_type": "markdown",
   "id": "ZqyS1SLliDYn",
   "metadata": {
    "id": "ZqyS1SLliDYn"
   },
   "source": [
    "#### Из всех криптовалют выбираем только те, что есть в нашем списке"
   ]
  },
  {
   "cell_type": "code",
   "execution_count": 10,
   "id": "5cb19f12",
   "metadata": {
    "colab": {
     "base_uri": "https://localhost:8080/",
     "height": 206
    },
    "executionInfo": {
     "elapsed": 339,
     "status": "ok",
     "timestamp": 1659117213916,
     "user": {
      "displayName": "Fedor Erin",
      "userId": "14230325476000231713"
     },
     "user_tz": -180
    },
    "id": "5cb19f12",
    "outputId": "1a42a26e-300e-458f-a7cc-a63f43c0771c"
   },
   "outputs": [
    {
     "data": {
      "text/html": [
       "\n",
       "  <div id=\"df-9ecce7ac-57f4-46c7-88cb-8955e22bda32\">\n",
       "    <div class=\"colab-df-container\">\n",
       "      <div>\n",
       "<style scoped>\n",
       "    .dataframe tbody tr th:only-of-type {\n",
       "        vertical-align: middle;\n",
       "    }\n",
       "\n",
       "    .dataframe tbody tr th {\n",
       "        vertical-align: top;\n",
       "    }\n",
       "\n",
       "    .dataframe thead th {\n",
       "        text-align: right;\n",
       "    }\n",
       "</style>\n",
       "<table border=\"1\" class=\"dataframe\">\n",
       "  <thead>\n",
       "    <tr style=\"text-align: right;\">\n",
       "      <th></th>\n",
       "      <th>id</th>\n",
       "      <th>symbol</th>\n",
       "      <th>name</th>\n",
       "    </tr>\n",
       "  </thead>\n",
       "  <tbody>\n",
       "    <tr>\n",
       "      <th>1553</th>\n",
       "      <td>binancecoin</td>\n",
       "      <td>bnb</td>\n",
       "      <td>BNB</td>\n",
       "    </tr>\n",
       "    <tr>\n",
       "      <th>1637</th>\n",
       "      <td>bitcoin</td>\n",
       "      <td>btc</td>\n",
       "      <td>Bitcoin</td>\n",
       "    </tr>\n",
       "    <tr>\n",
       "      <th>4225</th>\n",
       "      <td>ethereum</td>\n",
       "      <td>eth</td>\n",
       "      <td>Ethereum</td>\n",
       "    </tr>\n",
       "    <tr>\n",
       "      <th>11318</th>\n",
       "      <td>tether</td>\n",
       "      <td>usdt</td>\n",
       "      <td>Tether</td>\n",
       "    </tr>\n",
       "    <tr>\n",
       "      <th>11987</th>\n",
       "      <td>usd-coin</td>\n",
       "      <td>usdc</td>\n",
       "      <td>USD Coin</td>\n",
       "    </tr>\n",
       "  </tbody>\n",
       "</table>\n",
       "</div>\n",
       "      <button class=\"colab-df-convert\" onclick=\"convertToInteractive('df-9ecce7ac-57f4-46c7-88cb-8955e22bda32')\"\n",
       "              title=\"Convert this dataframe to an interactive table.\"\n",
       "              style=\"display:none;\">\n",
       "        \n",
       "  <svg xmlns=\"http://www.w3.org/2000/svg\" height=\"24px\"viewBox=\"0 0 24 24\"\n",
       "       width=\"24px\">\n",
       "    <path d=\"M0 0h24v24H0V0z\" fill=\"none\"/>\n",
       "    <path d=\"M18.56 5.44l.94 2.06.94-2.06 2.06-.94-2.06-.94-.94-2.06-.94 2.06-2.06.94zm-11 1L8.5 8.5l.94-2.06 2.06-.94-2.06-.94L8.5 2.5l-.94 2.06-2.06.94zm10 10l.94 2.06.94-2.06 2.06-.94-2.06-.94-.94-2.06-.94 2.06-2.06.94z\"/><path d=\"M17.41 7.96l-1.37-1.37c-.4-.4-.92-.59-1.43-.59-.52 0-1.04.2-1.43.59L10.3 9.45l-7.72 7.72c-.78.78-.78 2.05 0 2.83L4 21.41c.39.39.9.59 1.41.59.51 0 1.02-.2 1.41-.59l7.78-7.78 2.81-2.81c.8-.78.8-2.07 0-2.86zM5.41 20L4 18.59l7.72-7.72 1.47 1.35L5.41 20z\"/>\n",
       "  </svg>\n",
       "      </button>\n",
       "      \n",
       "  <style>\n",
       "    .colab-df-container {\n",
       "      display:flex;\n",
       "      flex-wrap:wrap;\n",
       "      gap: 12px;\n",
       "    }\n",
       "\n",
       "    .colab-df-convert {\n",
       "      background-color: #E8F0FE;\n",
       "      border: none;\n",
       "      border-radius: 50%;\n",
       "      cursor: pointer;\n",
       "      display: none;\n",
       "      fill: #1967D2;\n",
       "      height: 32px;\n",
       "      padding: 0 0 0 0;\n",
       "      width: 32px;\n",
       "    }\n",
       "\n",
       "    .colab-df-convert:hover {\n",
       "      background-color: #E2EBFA;\n",
       "      box-shadow: 0px 1px 2px rgba(60, 64, 67, 0.3), 0px 1px 3px 1px rgba(60, 64, 67, 0.15);\n",
       "      fill: #174EA6;\n",
       "    }\n",
       "\n",
       "    [theme=dark] .colab-df-convert {\n",
       "      background-color: #3B4455;\n",
       "      fill: #D2E3FC;\n",
       "    }\n",
       "\n",
       "    [theme=dark] .colab-df-convert:hover {\n",
       "      background-color: #434B5C;\n",
       "      box-shadow: 0px 1px 3px 1px rgba(0, 0, 0, 0.15);\n",
       "      filter: drop-shadow(0px 1px 2px rgba(0, 0, 0, 0.3));\n",
       "      fill: #FFFFFF;\n",
       "    }\n",
       "  </style>\n",
       "\n",
       "      <script>\n",
       "        const buttonEl =\n",
       "          document.querySelector('#df-9ecce7ac-57f4-46c7-88cb-8955e22bda32 button.colab-df-convert');\n",
       "        buttonEl.style.display =\n",
       "          google.colab.kernel.accessAllowed ? 'block' : 'none';\n",
       "\n",
       "        async function convertToInteractive(key) {\n",
       "          const element = document.querySelector('#df-9ecce7ac-57f4-46c7-88cb-8955e22bda32');\n",
       "          const dataTable =\n",
       "            await google.colab.kernel.invokeFunction('convertToInteractive',\n",
       "                                                     [key], {});\n",
       "          if (!dataTable) return;\n",
       "\n",
       "          const docLinkHtml = 'Like what you see? Visit the ' +\n",
       "            '<a target=\"_blank\" href=https://colab.research.google.com/notebooks/data_table.ipynb>data table notebook</a>'\n",
       "            + ' to learn more about interactive tables.';\n",
       "          element.innerHTML = '';\n",
       "          dataTable['output_type'] = 'display_data';\n",
       "          await google.colab.output.renderOutput(dataTable, element);\n",
       "          const docLink = document.createElement('div');\n",
       "          docLink.innerHTML = docLinkHtml;\n",
       "          element.appendChild(docLink);\n",
       "        }\n",
       "      </script>\n",
       "    </div>\n",
       "  </div>\n",
       "  "
      ],
      "text/plain": [
       "                id symbol      name\n",
       "1553   binancecoin    bnb       BNB\n",
       "1637       bitcoin    btc   Bitcoin\n",
       "4225      ethereum    eth  Ethereum\n",
       "11318       tether   usdt    Tether\n",
       "11987     usd-coin   usdc  USD Coin"
      ]
     },
     "execution_count": 10,
     "metadata": {},
     "output_type": "execute_result"
    }
   ],
   "source": [
    "coins_set = df_coins_all_meta.loc[df_coins_all_meta['name'].isin(top_coins)]\n",
    "coins_set"
   ]
  },
  {
   "cell_type": "markdown",
   "id": "NkvRjeVPairD",
   "metadata": {
    "id": "NkvRjeVPairD"
   },
   "source": [
    "В переменной __coin_set__ - хранится результат пересечения нужных нам монет и общего списка. В нем мы получили внутренние id системы благодаря, которым мы сможем вытащить историю."
   ]
  },
  {
   "cell_type": "markdown",
   "id": "nTmxCSU_iIlJ",
   "metadata": {
    "id": "nTmxCSU_iIlJ"
   },
   "source": [
    "#### Генерируем дату начала и весь пул дат, которые нам нужно обработать. Период можно указать произвольный: чем больше, тем дольше будет выгружаться."
   ]
  },
  {
   "cell_type": "code",
   "execution_count": 14,
   "id": "c059a74e",
   "metadata": {
    "executionInfo": {
     "elapsed": 413,
     "status": "ok",
     "timestamp": 1659117570882,
     "user": {
      "displayName": "Fedor Erin",
      "userId": "14230325476000231713"
     },
     "user_tz": -180
    },
    "id": "c059a74e"
   },
   "outputs": [],
   "source": [
    "DELTA_PERIOD = 14\n",
    "\n",
    "if dates_saved:\n",
    "    start_date = max(dates_saved) + timedelta(days=1)\n",
    "else:\n",
    "    start_date = date.today() - timedelta(days=DELTA_PERIOD)\n",
    "\n",
    "end_date = date.today() - timedelta(days=1)\n",
    "daterange = [x.strftime('%d-%m-%Y') for x in pd.date_range(start_date, end_date)]"
   ]
  },
  {
   "cell_type": "code",
   "execution_count": 15,
   "id": "8cb35d5d",
   "metadata": {
    "executionInfo": {
     "elapsed": 258,
     "status": "ok",
     "timestamp": 1659117638009,
     "user": {
      "displayName": "Fedor Erin",
      "userId": "14230325476000231713"
     },
     "user_tz": -180
    },
    "id": "8cb35d5d"
   },
   "outputs": [],
   "source": [
    "import numpy as np\n",
    "\n",
    "def get_coins_price_set(coins_ids: np.ndarray, daterange: list) -> list:\n",
    "    \"\"\"\n",
    "    Функция парсит данные по наименованиям монетам и возвращает только нужные поля.\n",
    "    \n",
    "    Args:\n",
    "        coins_ids (np.ndarray): массив из тикеров монет\n",
    "    \"\"\"\n",
    "    list_hist = []\n",
    "\n",
    "    for each_id in coins_ids:\n",
    "        for i, each_date in enumerate(daterange):\n",
    "            try:\n",
    "                print(each_id, f'day {i+1}')\n",
    "                data = get_history(each_id, each_date)\n",
    "                btc_price = data['market_data']['current_price']['btc']\n",
    "                usd_price = data['market_data']['current_price']['usd']\n",
    "                list_hist.append((each_id, each_date, btc_price, usd_price))\n",
    "                time.sleep(1.25)\n",
    "            except Exception as e:\n",
    "                print(f'Error was occured {e}')\n",
    "                continue\n",
    "    return list_hist"
   ]
  },
  {
   "cell_type": "markdown",
   "id": "lT3NkE-_qL4C",
   "metadata": {
    "id": "lT3NkE-_qL4C"
   },
   "source": [
    "Запустим весь код. Это займет некоторое время, так как лимит обращения к веб сервису 50 запросов в секунду. Поэтому мы используем time.sleep, чтобы не перегружать сервис и не вызывать ошибку. "
   ]
  },
  {
   "cell_type": "code",
   "execution_count": 16,
   "id": "ae032d83",
   "metadata": {
    "colab": {
     "base_uri": "https://localhost:8080/"
    },
    "executionInfo": {
     "elapsed": 113943,
     "status": "ok",
     "timestamp": 1659117756614,
     "user": {
      "displayName": "Fedor Erin",
      "userId": "14230325476000231713"
     },
     "user_tz": -180
    },
    "id": "ae032d83",
    "outputId": "8bc2c861-5eb4-45a2-d0d0-31bab76d7dd2"
   },
   "outputs": [
    {
     "name": "stdout",
     "output_type": "stream",
     "text": [
      "Getting history for 5 coins and 14 days\n",
      "binancecoin day 1\n",
      "binancecoin day 2\n",
      "binancecoin day 3\n",
      "binancecoin day 4\n",
      "binancecoin day 5\n",
      "binancecoin day 6\n",
      "binancecoin day 7\n",
      "binancecoin day 8\n",
      "binancecoin day 9\n",
      "binancecoin day 10\n",
      "binancecoin day 11\n",
      "binancecoin day 12\n",
      "binancecoin day 13\n",
      "binancecoin day 14\n",
      "bitcoin day 1\n",
      "bitcoin day 2\n",
      "bitcoin day 3\n",
      "bitcoin day 4\n",
      "bitcoin day 5\n",
      "bitcoin day 6\n",
      "bitcoin day 7\n",
      "bitcoin day 8\n",
      "bitcoin day 9\n",
      "bitcoin day 10\n",
      "bitcoin day 11\n",
      "bitcoin day 12\n",
      "bitcoin day 13\n",
      "bitcoin day 14\n",
      "ethereum day 1\n",
      "ethereum day 2\n",
      "ethereum day 3\n",
      "ethereum day 4\n",
      "ethereum day 5\n",
      "ethereum day 6\n",
      "ethereum day 7\n",
      "ethereum day 8\n",
      "ethereum day 9\n",
      "ethereum day 10\n",
      "ethereum day 11\n",
      "ethereum day 12\n",
      "ethereum day 13\n",
      "ethereum day 14\n",
      "tether day 1\n",
      "tether day 2\n",
      "tether day 3\n",
      "tether day 4\n",
      "tether day 5\n",
      "tether day 6\n",
      "tether day 7\n",
      "tether day 8\n",
      "tether day 9\n",
      "tether day 10\n",
      "tether day 11\n",
      "tether day 12\n",
      "tether day 13\n",
      "tether day 14\n",
      "usd-coin day 1\n",
      "usd-coin day 2\n",
      "usd-coin day 3\n",
      "usd-coin day 4\n",
      "usd-coin day 5\n",
      "usd-coin day 6\n",
      "usd-coin day 7\n",
      "usd-coin day 8\n",
      "usd-coin day 9\n",
      "usd-coin day 10\n",
      "usd-coin day 11\n",
      "usd-coin day 12\n",
      "usd-coin day 13\n",
      "usd-coin day 14\n",
      "CPU times: user 1.7 s, sys: 180 ms, total: 1.88 s\n",
      "Wall time: 1min 53s\n"
     ]
    }
   ],
   "source": [
    "%%time\n",
    "print(f\"Getting history for {coins_set['id'].nunique()} coins and {DELTA_PERIOD} days\")\n",
    "list_hist = get_coins_price_set(coins_set['id'].unique(), daterange)"
   ]
  },
  {
   "cell_type": "markdown",
   "id": "dsWYgPaiiizZ",
   "metadata": {
    "id": "dsWYgPaiiizZ"
   },
   "source": [
    "#### Отображаем данные внутри датасета как str, для scientific notation"
   ]
  },
  {
   "cell_type": "code",
   "execution_count": 17,
   "id": "cf5b3386",
   "metadata": {
    "executionInfo": {
     "elapsed": 263,
     "status": "ok",
     "timestamp": 1659117795441,
     "user": {
      "displayName": "Fedor Erin",
      "userId": "14230325476000231713"
     },
     "user_tz": -180
    },
    "id": "cf5b3386"
   },
   "outputs": [],
   "source": [
    "pd.set_option('display.float_format', str)"
   ]
  },
  {
   "cell_type": "markdown",
   "id": "S73544zFiq-I",
   "metadata": {
    "id": "S73544zFiq-I"
   },
   "source": [
    "#### Преобразуем данные:\n",
    "* Формируем датафрейм из скаченной истории\n",
    "* Форматируем дату\n",
    "* Устанавливаем дату загрузки\n",
    "* Формируем датафрейм\n",
    "* Форматируем дату данных из БД\n",
    "* Объединяем датафреймы"
   ]
  },
  {
   "cell_type": "code",
   "execution_count": 22,
   "id": "ab052e68",
   "metadata": {
    "executionInfo": {
     "elapsed": 381,
     "status": "ok",
     "timestamp": 1659117956487,
     "user": {
      "displayName": "Fedor Erin",
      "userId": "14230325476000231713"
     },
     "user_tz": -180
    },
    "id": "ab052e68",
    "scrolled": true
   },
   "outputs": [],
   "source": [
    "set_loaded_history_coins = pd.DataFrame(list_hist, columns=['coingecko_id', 'price_date', 'btc', 'usd']).sort_values('price_date')\n",
    "set_loaded_history_coins['price_date'] = set_loaded_history_coins['price_date'].apply(lambda x: datetime.strptime(x, '%d-%m-%Y'))\n",
    "set_loaded_history_coins['insert_dttm'] = datetime.now()\n",
    "\n",
    "set_history_coins = pd.DataFrame([x for x in c.fetchall()], columns=['coingecko_id', 'price_date', 'btc', 'usd', 'insert_dttm'])\n",
    "set_history_coins['price_date'] = set_history_coins['price_date'].apply(lambda x: datetime.strptime(x, '%d-%m-%Y')) \n",
    "\n",
    "set_all_coins = pd.concat([set_history_coins, set_loaded_history_coins])"
   ]
  },
  {
   "cell_type": "markdown",
   "id": "eektf9W9jB8F",
   "metadata": {
    "id": "eektf9W9jB8F"
   },
   "source": [
    "#### Формируем датафрейм и записываем скаченную историю в БД"
   ]
  },
  {
   "cell_type": "code",
   "execution_count": 23,
   "id": "9081e0b7",
   "metadata": {
    "executionInfo": {
     "elapsed": 263,
     "status": "ok",
     "timestamp": 1659117964614,
     "user": {
      "displayName": "Fedor Erin",
      "userId": "14230325476000231713"
     },
     "user_tz": -180
    },
    "id": "9081e0b7"
   },
   "outputs": [],
   "source": [
    "set_all_coins.price_date = set_all_coins['price_date'].astype('datetime64[ns]')\n",
    "set_loaded_history_coins.to_sql('prices', conn, if_exists='append', index=False)"
   ]
  },
  {
   "cell_type": "markdown",
   "id": "3jhx4XCMjNLR",
   "metadata": {
    "id": "3jhx4XCMjNLR"
   },
   "source": [
    "#### Обработаем данные для выведения графика \"Как сильно упала цена монеты относительно BTC\""
   ]
  },
  {
   "cell_type": "code",
   "execution_count": 25,
   "id": "nZvobRJOooZR",
   "metadata": {
    "colab": {
     "base_uri": "https://localhost:8080/",
     "height": 206
    },
    "executionInfo": {
     "elapsed": 265,
     "status": "ok",
     "timestamp": 1659118077386,
     "user": {
      "displayName": "Fedor Erin",
      "userId": "14230325476000231713"
     },
     "user_tz": -180
    },
    "id": "nZvobRJOooZR",
    "outputId": "142407d5-3329-4072-f527-dd29f112b896"
   },
   "outputs": [
    {
     "data": {
      "text/html": [
       "\n",
       "  <div id=\"df-954c62fb-5868-431e-a4b2-3153d3bdf417\">\n",
       "    <div class=\"colab-df-container\">\n",
       "      <div>\n",
       "<style scoped>\n",
       "    .dataframe tbody tr th:only-of-type {\n",
       "        vertical-align: middle;\n",
       "    }\n",
       "\n",
       "    .dataframe tbody tr th {\n",
       "        vertical-align: top;\n",
       "    }\n",
       "\n",
       "    .dataframe thead th {\n",
       "        text-align: right;\n",
       "    }\n",
       "</style>\n",
       "<table border=\"1\" class=\"dataframe\">\n",
       "  <thead>\n",
       "    <tr style=\"text-align: right;\">\n",
       "      <th></th>\n",
       "      <th>coingecko_id</th>\n",
       "      <th>price_date</th>\n",
       "      <th>btc</th>\n",
       "      <th>usd</th>\n",
       "    </tr>\n",
       "  </thead>\n",
       "  <tbody>\n",
       "    <tr>\n",
       "      <th>0</th>\n",
       "      <td>binancecoin</td>\n",
       "      <td>2022-07-15</td>\n",
       "      <td>0.01158038218793217</td>\n",
       "      <td>238.36968523101555</td>\n",
       "    </tr>\n",
       "    <tr>\n",
       "      <th>28</th>\n",
       "      <td>ethereum</td>\n",
       "      <td>2022-07-15</td>\n",
       "      <td>0.05789913618886284</td>\n",
       "      <td>1191.1308371103116</td>\n",
       "    </tr>\n",
       "    <tr>\n",
       "      <th>42</th>\n",
       "      <td>tether</td>\n",
       "      <td>2022-07-15</td>\n",
       "      <td>4.856929171008942e-05</td>\n",
       "      <td>0.9998924467410043</td>\n",
       "    </tr>\n",
       "    <tr>\n",
       "      <th>14</th>\n",
       "      <td>bitcoin</td>\n",
       "      <td>2022-07-15</td>\n",
       "      <td>1.0</td>\n",
       "      <td>20574.84059150044</td>\n",
       "    </tr>\n",
       "    <tr>\n",
       "      <th>56</th>\n",
       "      <td>usd-coin</td>\n",
       "      <td>2022-07-15</td>\n",
       "      <td>4.865735741574883e-05</td>\n",
       "      <td>1.001560508760777</td>\n",
       "    </tr>\n",
       "  </tbody>\n",
       "</table>\n",
       "</div>\n",
       "      <button class=\"colab-df-convert\" onclick=\"convertToInteractive('df-954c62fb-5868-431e-a4b2-3153d3bdf417')\"\n",
       "              title=\"Convert this dataframe to an interactive table.\"\n",
       "              style=\"display:none;\">\n",
       "        \n",
       "  <svg xmlns=\"http://www.w3.org/2000/svg\" height=\"24px\"viewBox=\"0 0 24 24\"\n",
       "       width=\"24px\">\n",
       "    <path d=\"M0 0h24v24H0V0z\" fill=\"none\"/>\n",
       "    <path d=\"M18.56 5.44l.94 2.06.94-2.06 2.06-.94-2.06-.94-.94-2.06-.94 2.06-2.06.94zm-11 1L8.5 8.5l.94-2.06 2.06-.94-2.06-.94L8.5 2.5l-.94 2.06-2.06.94zm10 10l.94 2.06.94-2.06 2.06-.94-2.06-.94-.94-2.06-.94 2.06-2.06.94z\"/><path d=\"M17.41 7.96l-1.37-1.37c-.4-.4-.92-.59-1.43-.59-.52 0-1.04.2-1.43.59L10.3 9.45l-7.72 7.72c-.78.78-.78 2.05 0 2.83L4 21.41c.39.39.9.59 1.41.59.51 0 1.02-.2 1.41-.59l7.78-7.78 2.81-2.81c.8-.78.8-2.07 0-2.86zM5.41 20L4 18.59l7.72-7.72 1.47 1.35L5.41 20z\"/>\n",
       "  </svg>\n",
       "      </button>\n",
       "      \n",
       "  <style>\n",
       "    .colab-df-container {\n",
       "      display:flex;\n",
       "      flex-wrap:wrap;\n",
       "      gap: 12px;\n",
       "    }\n",
       "\n",
       "    .colab-df-convert {\n",
       "      background-color: #E8F0FE;\n",
       "      border: none;\n",
       "      border-radius: 50%;\n",
       "      cursor: pointer;\n",
       "      display: none;\n",
       "      fill: #1967D2;\n",
       "      height: 32px;\n",
       "      padding: 0 0 0 0;\n",
       "      width: 32px;\n",
       "    }\n",
       "\n",
       "    .colab-df-convert:hover {\n",
       "      background-color: #E2EBFA;\n",
       "      box-shadow: 0px 1px 2px rgba(60, 64, 67, 0.3), 0px 1px 3px 1px rgba(60, 64, 67, 0.15);\n",
       "      fill: #174EA6;\n",
       "    }\n",
       "\n",
       "    [theme=dark] .colab-df-convert {\n",
       "      background-color: #3B4455;\n",
       "      fill: #D2E3FC;\n",
       "    }\n",
       "\n",
       "    [theme=dark] .colab-df-convert:hover {\n",
       "      background-color: #434B5C;\n",
       "      box-shadow: 0px 1px 3px 1px rgba(0, 0, 0, 0.15);\n",
       "      filter: drop-shadow(0px 1px 2px rgba(0, 0, 0, 0.3));\n",
       "      fill: #FFFFFF;\n",
       "    }\n",
       "  </style>\n",
       "\n",
       "      <script>\n",
       "        const buttonEl =\n",
       "          document.querySelector('#df-954c62fb-5868-431e-a4b2-3153d3bdf417 button.colab-df-convert');\n",
       "        buttonEl.style.display =\n",
       "          google.colab.kernel.accessAllowed ? 'block' : 'none';\n",
       "\n",
       "        async function convertToInteractive(key) {\n",
       "          const element = document.querySelector('#df-954c62fb-5868-431e-a4b2-3153d3bdf417');\n",
       "          const dataTable =\n",
       "            await google.colab.kernel.invokeFunction('convertToInteractive',\n",
       "                                                     [key], {});\n",
       "          if (!dataTable) return;\n",
       "\n",
       "          const docLinkHtml = 'Like what you see? Visit the ' +\n",
       "            '<a target=\"_blank\" href=https://colab.research.google.com/notebooks/data_table.ipynb>data table notebook</a>'\n",
       "            + ' to learn more about interactive tables.';\n",
       "          element.innerHTML = '';\n",
       "          dataTable['output_type'] = 'display_data';\n",
       "          await google.colab.output.renderOutput(dataTable, element);\n",
       "          const docLink = document.createElement('div');\n",
       "          docLink.innerHTML = docLinkHtml;\n",
       "          element.appendChild(docLink);\n",
       "        }\n",
       "      </script>\n",
       "    </div>\n",
       "  </div>\n",
       "  "
      ],
      "text/plain": [
       "   coingecko_id price_date                   btc                usd\n",
       "0   binancecoin 2022-07-15   0.01158038218793217 238.36968523101555\n",
       "28     ethereum 2022-07-15   0.05789913618886284 1191.1308371103116\n",
       "42       tether 2022-07-15 4.856929171008942e-05 0.9998924467410043\n",
       "14      bitcoin 2022-07-15                   1.0  20574.84059150044\n",
       "56     usd-coin 2022-07-15 4.865735741574883e-05  1.001560508760777"
      ]
     },
     "execution_count": 25,
     "metadata": {},
     "output_type": "execute_result"
    }
   ],
   "source": [
    "set_all_coins[['coingecko_id', 'price_date', 'btc', 'usd']].head()"
   ]
  },
  {
   "cell_type": "code",
   "execution_count": 26,
   "id": "4dd6df1e",
   "metadata": {
    "executionInfo": {
     "elapsed": 263,
     "status": "ok",
     "timestamp": 1659118171475,
     "user": {
      "displayName": "Fedor Erin",
      "userId": "14230325476000231713"
     },
     "user_tz": -180
    },
    "id": "4dd6df1e"
   },
   "outputs": [],
   "source": [
    "max_val_btc = set_all_coins.groupby('coingecko_id')['btc'].max()\n",
    "max_val_btc_df = pd.DataFrame(max_val_btc).rename(columns = {'btc': 'btc_max'})\n",
    "\n",
    "set_history_coins_merged = pd.merge(\n",
    "    set_all_coins,\n",
    "    max_val_btc_df, \n",
    "    on='coingecko_id'\n",
    ")\n",
    "\n",
    "set_history_coins_merged['btc_norm'] = set_history_coins_merged['btc'] / set_history_coins_merged['btc_max']\n",
    "\n",
    "avg_score = (\n",
    "    set_history_coins_merged[['coingecko_id', 'price_date', 'btc_norm']]\n",
    "    .groupby('coingecko_id')[['btc_norm']].mean()\n",
    "    .sort_values('btc_norm', ascending = False)\n",
    ")\n",
    "\n",
    "bar_test = set_history_coins_merged.loc[set_history_coins_merged.price_date == \n",
    "                                        set_history_coins_merged.price_date.max()].sort_values('btc_norm', ascending=False)"
   ]
  },
  {
   "cell_type": "markdown",
   "id": "MPdSiea7jRb9",
   "metadata": {
    "id": "MPdSiea7jRb9"
   },
   "source": [
    "#### Визуализируем результат"
   ]
  },
  {
   "cell_type": "code",
   "execution_count": 27,
   "id": "e1919d80",
   "metadata": {
    "colab": {
     "base_uri": "https://localhost:8080/",
     "height": 331
    },
    "executionInfo": {
     "elapsed": 312,
     "status": "ok",
     "timestamp": 1659118175732,
     "user": {
      "displayName": "Fedor Erin",
      "userId": "14230325476000231713"
     },
     "user_tz": -180
    },
    "id": "e1919d80",
    "outputId": "42efd487-739e-4397-f832-2f19123de41a",
    "scrolled": true
   },
   "outputs": [
    {
     "data": {
      "image/png": "[encoded data removed]",
      "text/plain": [
       "<Figure size 432x288 with 1 Axes>"
      ]
     },
     "metadata": {
      "needs_background": "light"
     },
     "output_type": "display_data"
    }
   ],
   "source": [
    "bar_test.plot.bar(x='coingecko_id', y='btc_norm')\n",
    "plt.ylim(0.8, 1.01)\n",
    "plt.show()"
   ]
  },
  {
   "cell_type": "markdown",
   "id": "b25581d7",
   "metadata": {
    "id": "b25581d7"
   },
   "source": [
    "* Провели нормализацию данных по их максимальному значению за период и поняли насколько они упали относительно него. Получился информативный descriptive анализ."
   ]
  },
  {
   "cell_type": "code",
   "execution_count": null,
   "id": "IFJG14zTrcpf",
   "metadata": {
    "id": "IFJG14zTrcpf"
   },
   "outputs": [],
   "source": []
  }
 ],
 "metadata": {
  "colab": {
   "collapsed_sections": [],
   "name": "3.4_coingecko_api.ipynb",
   "provenance": []
  },
  "kernelspec": {
   "display_name": "Python 3 (ipykernel)",
   "language": "python",
   "name": "python3"
  },
  "language_info": {
   "codemirror_mode": {
    "name": "ipython",
    "version": 3
   },
   "file_extension": ".py",
   "mimetype": "text/x-python",
   "name": "python",
   "nbconvert_exporter": "python",
   "pygments_lexer": "ipython3",
   "version": "3.12.3"
  }
 },
 "nbformat": 4,
 "nbformat_minor": 5
}
